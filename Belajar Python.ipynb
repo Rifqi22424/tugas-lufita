{
 "cells": [
  {
   "cell_type": "code",
   "execution_count": 1,
   "id": "38ab38d4",
   "metadata": {},
   "outputs": [
    {
     "name": "stdout",
     "output_type": "stream",
     "text": [
      "SHIFT + ENTER\n"
     ]
    }
   ],
   "source": [
    "print(\"SHIFT + ENTER\")"
   ]
  },
  {
   "cell_type": "code",
   "execution_count": 2,
   "id": "2f90a5f8",
   "metadata": {},
   "outputs": [
    {
     "data": {
      "text/plain": [
       "2"
      ]
     },
     "execution_count": 2,
     "metadata": {},
     "output_type": "execute_result"
    }
   ],
   "source": [
    "1+1"
   ]
  },
  {
   "cell_type": "markdown",
   "id": "2bb4cf5b",
   "metadata": {},
   "source": [
    "18*80"
   ]
  },
  {
   "cell_type": "markdown",
   "id": "67ea9f17",
   "metadata": {},
   "source": [
    "# Belajar menggunakan python"
   ]
  },
  {
   "cell_type": "markdown",
   "id": "24e2eb97",
   "metadata": {},
   "source": [
    "python gampang "
   ]
  },
  {
   "cell_type": "code",
   "execution_count": 4,
   "id": "4e246936",
   "metadata": {},
   "outputs": [],
   "source": [
    "# heading 1"
   ]
  },
  {
   "cell_type": "code",
   "execution_count": null,
   "id": "46280e22",
   "metadata": {},
   "outputs": [],
   "source": []
  }
 ],
 "metadata": {
  "kernelspec": {
   "display_name": "Python 3 (ipykernel)",
   "language": "python",
   "name": "python3"
  },
  "language_info": {
   "codemirror_mode": {
    "name": "ipython",
    "version": 3
   },
   "file_extension": ".py",
   "mimetype": "text/x-python",
   "name": "python",
   "nbconvert_exporter": "python",
   "pygments_lexer": "ipython3",
   "version": "3.10.7"
  }
 },
 "nbformat": 4,
 "nbformat_minor": 5
}
